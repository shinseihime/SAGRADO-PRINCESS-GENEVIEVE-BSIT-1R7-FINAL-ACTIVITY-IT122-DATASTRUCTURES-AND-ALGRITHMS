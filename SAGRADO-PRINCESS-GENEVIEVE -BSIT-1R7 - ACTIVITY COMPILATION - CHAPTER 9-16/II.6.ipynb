{
 "cells": [
  {
   "cell_type": "code",
   "execution_count": 1,
   "id": "b8a3ffd3",
   "metadata": {},
   "outputs": [
    {
     "name": "stdout",
     "output_type": "stream",
     "text": [
      "Initial queue\n",
      "['Naruto', 'Sasuke', 'Sakura']\n",
      "\n",
      "Elements dequeued from queue\n",
      "Sasuke\n",
      "Naruto\n",
      "Sakura\n",
      "\n",
      "Queue after removing elements\n",
      "[]\n",
      "\n",
      "\n",
      "With this experience I have learn how to stack items in multiple ways. I have learned that by using the operation Enqueue I\n",
      "was able  to  stack  items  by  the  rear, and remove items from the front using what I know the append() and pop() methods.\n",
      "\n"
     ]
    }
   ],
   "source": [
    "queue = []\n",
    "\n",
    "# Adding elements to the queue\n",
    "queue.append('Naruto')\n",
    "queue.append('Sasuke')\n",
    "queue.append('Sakura')\n",
    "\n",
    "print(\"Initial queue\")\n",
    "print(queue)\n",
    "\n",
    "# Removing elements from the queue\n",
    "print(\"\\nElements dequeued from queue\")\n",
    "print(queue.pop(1))\n",
    "print(queue.pop(0))\n",
    "print(queue.pop(0))\n",
    "\n",
    "print(\"\\nQueue after removing elements\")\n",
    "print(queue)\n",
    "print(\"\"\"\\n\\nWith this experience I have learn how to stack items in multiple ways. I have learned that by using the operation Enqueue I\n",
    "was able  to  stack  items  by  the  rear, and remove items from the front using what I know the append() and pop() methods.\\n\"\"\")\n"
   ]
  },
  {
   "cell_type": "code",
   "execution_count": null,
   "id": "ae738d0d",
   "metadata": {},
   "outputs": [],
   "source": []
  }
 ],
 "metadata": {
  "kernelspec": {
   "display_name": "Python 3",
   "language": "python",
   "name": "python3"
  },
  "language_info": {
   "codemirror_mode": {
    "name": "ipython",
    "version": 3
   },
   "file_extension": ".py",
   "mimetype": "text/x-python",
   "name": "python",
   "nbconvert_exporter": "python",
   "pygments_lexer": "ipython3",
   "version": "3.9.4"
  }
 },
 "nbformat": 4,
 "nbformat_minor": 5
}
