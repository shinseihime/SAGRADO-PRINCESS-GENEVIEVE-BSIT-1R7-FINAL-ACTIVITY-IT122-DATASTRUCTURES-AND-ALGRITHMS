{
 "cells": [
  {
   "cell_type": "code",
   "execution_count": 7,
   "id": "fe4bae65",
   "metadata": {},
   "outputs": [
    {
     "name": "stdout",
     "output_type": "stream",
     "text": [
      "For any organization having several manufacturing facilities, and a huge and spread market, transportation remains an inevitable part of its total system. The transportation model developed by the simulation team serves as a guideline to study how automobiles manufactured at a particular facility are transported to various places.\n",
      "\n",
      "Following is a brief procedure on how this transportation takes place:\n",
      "\n",
      "1.   At first all the cars are accumulated in a huge parking lot, which also serves as a loading area for the trucks that carry these cars.\n",
      "\n",
      "2.   Once the specified number of cars is available, they are loaded on to the trucks as per the capacity of the trucks.\n",
      "\n",
      "3.   These trucks then transport the vehicles to the specified destination, such as a dock, where all these trucks are then handed over to a distributor.\n",
      "\n",
      "4.   At the dock, the vehicles are unloaded from the trucks, and then loaded onto a ship.\n",
      "\n",
      "5.   nce the ship is loaded to its capacity, it is then directed to its destination, which may be other countries, or within the nation, but to different states.\n",
      "\n",
      "\n",
      "The block diagram below, explains how the flow of the automobiles takes place once manufactured, to the time they are delivered to their final destination.\n",
      "\n",
      "\n",
      "Manufactures Cars ---> Parking Lot ---> Cars to Loading Area for Trucks---> Loading of Cars on Truc---> Loaded Trucks in Dock---> Loading of Trucks on Ship ---> Unloading of Ship ---> Loaded Ship to Destination ---> Loading of Trucks on Ship \n",
      "                                         Transportation of Manufactured Cars\n",
      "\n",
      "The attributes, variables, sequences, etc. that are used in the model are explained below:\n",
      "\n",
      "\n",
      "Attributes: Time-In is the only attribute used in the model, which determines what time the car entered the system, for how long it was in the system.\n",
      "Schedules: This element describes the schedules for the resources, when they are available and when they are not.\n",
      "Counters: Counts the total number cars that are transported during the specified time.\n",
      "Transporters: There are two types of transporters, Trucks and Ship, which are being used in this model.\n"
     ]
    }
   ],
   "source": [
    "print(\"For any organization having several manufacturing facilities, and a huge and spread market, transportation remains an inevitable part of its total system. The transportation model developed by the simulation team serves as a guideline to study how automobiles manufactured at a particular facility are transported to various places.\\n\")\n",
    "print(\"Following is a brief procedure on how this transportation takes place:\\n\")\n",
    "print(\"1.   At first all the cars are accumulated in a huge parking lot, which also serves as a loading area for the trucks that carry these cars.\\n\")\n",
    "print(\"2.   Once the specified number of cars is available, they are loaded on to the trucks as per the capacity of the trucks.\\n\")\n",
    "print(\"3.   These trucks then transport the vehicles to the specified destination, such as a dock, where all these trucks are then handed over to a distributor.\\n\")\n",
    "print(\"4.   At the dock, the vehicles are unloaded from the trucks, and then loaded onto a ship.\\n\")\n",
    "print(\"5.   nce the ship is loaded to its capacity, it is then directed to its destination, which may be other countries, or within the nation, but to different states.\\n\\n\")\n",
    "print(\"The block diagram below, explains how the flow of the automobiles takes place once manufactured, to the time they are delivered to their final destination.\\n\\n\")\n",
    "\n",
    "print(\"Manufactures Cars ---> Parking Lot ---> Cars to Loading Area for Trucks---> Loading of Cars on Truc---> Loaded Trucks in Dock---> Loading of Trucks on Ship ---> Unloading of Ship ---> Loaded Ship to Destination ---> Loading of Trucks on Ship \")\n",
    "print(\"                                         Transportation of Manufactured Cars\")\n",
    "print(\"\\nThe attributes, variables, sequences, etc. that are used in the model are explained below:\\n\\n\")\n",
    "print(\"Attributes: Time-In is the only attribute used in the model, which determines what time the car entered the system, for how long it was in the system.\")\n",
    "print(\"Schedules: This element describes the schedules for the resources, when they are available and when they are not.\")\n",
    "print(\"Counters: Counts the total number cars that are transported during the specified time.\")\n",
    "print(\"Transporters: There are two types of transporters, Trucks and Ship, which are being used in this model.\")\n",
    "\n"
   ]
  },
  {
   "cell_type": "code",
   "execution_count": null,
   "id": "cf9a7029",
   "metadata": {},
   "outputs": [],
   "source": []
  }
 ],
 "metadata": {
  "kernelspec": {
   "display_name": "Python 3",
   "language": "python",
   "name": "python3"
  },
  "language_info": {
   "codemirror_mode": {
    "name": "ipython",
    "version": 3
   },
   "file_extension": ".py",
   "mimetype": "text/x-python",
   "name": "python",
   "nbconvert_exporter": "python",
   "pygments_lexer": "ipython3",
   "version": "3.9.4"
  }
 },
 "nbformat": 4,
 "nbformat_minor": 5
}
