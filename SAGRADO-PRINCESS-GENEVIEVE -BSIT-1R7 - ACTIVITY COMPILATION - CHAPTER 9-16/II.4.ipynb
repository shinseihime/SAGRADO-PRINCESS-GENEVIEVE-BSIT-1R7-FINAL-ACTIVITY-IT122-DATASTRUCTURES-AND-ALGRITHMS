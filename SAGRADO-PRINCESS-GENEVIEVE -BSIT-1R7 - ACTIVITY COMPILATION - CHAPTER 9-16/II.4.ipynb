{
 "cells": [
  {
   "cell_type": "code",
   "execution_count": 1,
   "id": "6b9f2438",
   "metadata": {},
   "outputs": [
    {
     "name": "stdout",
     "output_type": "stream",
     "text": [
      "The most simple arithmetic circuit is known as the half adder. Research the simple half-adder circuit. Implement this circuit.\n",
      "\n",
      "\n",
      "The SUM is:   92\n",
      "CARRY is:     1\n"
     ]
    }
   ],
   "source": [
    "print(\"The most simple arithmetic circuit is known as the half adder. Research the simple half-adder circuit. Implement this circuit.\\n\\n\")\n",
    "def getResult(X, Y):\n",
    "\tSum = X ^ Y\n",
    "\tCarry = X & Y\n",
    "\tprint(\"The SUM is:  \", Sum)\n",
    "\tprint(\"CARRY is:    \", Carry)\n",
    "\n",
    "X = 17\n",
    "Y = 77\n",
    "getResult(X, Y)\n"
   ]
  },
  {
   "cell_type": "code",
   "execution_count": null,
   "id": "739a0281",
   "metadata": {},
   "outputs": [],
   "source": []
  }
 ],
 "metadata": {
  "kernelspec": {
   "display_name": "Python 3",
   "language": "python",
   "name": "python3"
  },
  "language_info": {
   "codemirror_mode": {
    "name": "ipython",
    "version": 3
   },
   "file_extension": ".py",
   "mimetype": "text/x-python",
   "name": "python",
   "nbconvert_exporter": "python",
   "pygments_lexer": "ipython3",
   "version": "3.9.4"
  }
 },
 "nbformat": 4,
 "nbformat_minor": 5
}
