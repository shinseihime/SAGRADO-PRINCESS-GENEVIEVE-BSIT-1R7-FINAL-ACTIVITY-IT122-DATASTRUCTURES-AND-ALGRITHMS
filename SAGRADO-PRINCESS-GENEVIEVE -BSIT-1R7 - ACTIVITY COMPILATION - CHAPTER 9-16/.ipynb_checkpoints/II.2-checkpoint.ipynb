{
 "cells": [
  {
   "cell_type": "code",
   "execution_count": 1,
   "id": "2420e5e7",
   "metadata": {},
   "outputs": [
    {
     "name": "stdout",
     "output_type": "stream",
     "text": [
      "Research the __radd__ method. How does it differ from __add__? When is it used?\n",
      "\n",
      "__add__() is called to implement the binary arithmetic '+' operation. If one of those methods does not support the operation with the supplied arguments, it should return NotImplemented. These functions __radd__ are only called if the left operand does not support the corresponding operation and the operands are of different types. \n",
      "\n",
      "\n",
      "Implementation : \n",
      "\n",
      "['Naruto', 'Black Clover', 'One Piece', 'The Promise to Neverland', 'Attack on Titans', 'ReZero', 'Drifters']\n",
      "['Given!', 'Naruto', 'Black Clover', 'One Piece']\n"
     ]
    }
   ],
   "source": [
    "class Collection:\n",
    "   def __init__(self, anime, manga):\n",
    "      self.anime = list(anime)\n",
    "      self.manga = manga\n",
    "\n",
    "   def __add__(self, other):\n",
    "      latest_list = self.anime.copy()\n",
    "      latest_list.append(other)\n",
    "      return Collection(latest_list, self.manga)\n",
    "\n",
    "   def __radd__(self, other):\n",
    "      latest_list = self.anime.copy()\n",
    "      latest_list.insert(0, other)\n",
    "      return Collection(latest_list, self.manga)\n",
    "\n",
    "collection = Collection([\"Naruto\", \"Black Clover\", \"One Piece\"], \"Real Python\")\n",
    "collection_1 = collection + \"The Promise to Neverland\" + \"Attack on Titans\" + \"ReZero\" + \"Drifters\"\n",
    "\n",
    "print(\"Research the __radd__ method. How does it differ from __add__? When is it used?\\n\")\n",
    "print(\"__add__() is called to implement the binary arithmetic '+' operation. If one of those methods does not support the operation with the supplied arguments, it should return NotImplemented. These functions __radd__ are only called if the left operand does not support the corresponding operation and the operands are of different types. \\n\\n\")\n",
    "print(\"Implementation : \\n\")\n",
    "print(collection_1.anime)\n",
    "\n",
    "collection_2 = \"Given!\" + collection\n",
    "print(collection_2.anime)\n"
   ]
  },
  {
   "cell_type": "code",
   "execution_count": null,
   "id": "e7083f56",
   "metadata": {},
   "outputs": [],
   "source": []
  }
 ],
 "metadata": {
  "kernelspec": {
   "display_name": "Python 3",
   "language": "python",
   "name": "python3"
  },
  "language_info": {
   "codemirror_mode": {
    "name": "ipython",
    "version": 3
   },
   "file_extension": ".py",
   "mimetype": "text/x-python",
   "name": "python",
   "nbconvert_exporter": "python",
   "pygments_lexer": "ipython3",
   "version": "3.9.4"
  }
 },
 "nbformat": 4,
 "nbformat_minor": 5
}
