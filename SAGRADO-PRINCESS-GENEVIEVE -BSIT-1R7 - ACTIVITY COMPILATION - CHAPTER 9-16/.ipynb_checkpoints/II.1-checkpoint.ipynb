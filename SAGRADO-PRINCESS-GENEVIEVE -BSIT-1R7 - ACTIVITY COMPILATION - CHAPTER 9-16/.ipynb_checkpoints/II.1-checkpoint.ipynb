{
 "cells": [
  {
   "cell_type": "code",
   "execution_count": 1,
   "id": "86d1e1aa",
   "metadata": {},
   "outputs": [
    {
     "name": "stdout",
     "output_type": "stream",
     "text": [
      "I ate 1/4 of the pizza, and Matthew eat 1/2 of the pizza.\n",
      "So all in all we both eat 6/8\n"
     ]
    }
   ],
   "source": [
    "class Fraction:\n",
    "\n",
    "    def __init__(self,numerator,denaminator):\n",
    "\n",
    "        self.num = numerator\n",
    "        self.den = denaminator\n",
    "\n",
    "    def __str__(self):\n",
    "       return str(self.num)+\"/\"+str(self.den)\n",
    "\n",
    "    def __add__(self,other_fraction):\n",
    "        newnum = self.num*other_fraction.den + self.den*other_fraction.num\n",
    "        newden = self.den * other_fraction.den\n",
    "\n",
    "        return Fraction(newnum,newden)\n",
    "\n",
    "f1 = Fraction(1,4)\n",
    "f2 = Fraction(1,2)\n",
    "f3 = f1 + f2\n",
    "print(\"I ate\", f1, \"of the pizza, and Matthew eat\", f2, \"of the pizza.\")\n",
    "print(\"So all in all we both eat\", f3)\n",
    "\n"
   ]
  },
  {
   "cell_type": "code",
   "execution_count": null,
   "id": "76231757",
   "metadata": {},
   "outputs": [],
   "source": []
  }
 ],
 "metadata": {
  "kernelspec": {
   "display_name": "Python 3",
   "language": "python",
   "name": "python3"
  },
  "language_info": {
   "codemirror_mode": {
    "name": "ipython",
    "version": 3
   },
   "file_extension": ".py",
   "mimetype": "text/x-python",
   "name": "python",
   "nbconvert_exporter": "python",
   "pygments_lexer": "ipython3",
   "version": "3.9.4"
  }
 },
 "nbformat": 4,
 "nbformat_minor": 5
}
