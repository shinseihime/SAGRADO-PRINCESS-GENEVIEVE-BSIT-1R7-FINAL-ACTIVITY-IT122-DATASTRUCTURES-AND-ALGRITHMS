{
 "cells": [
  {
   "cell_type": "code",
   "execution_count": 1,
   "id": "84c887e5",
   "metadata": {},
   "outputs": [
    {
     "name": "stdout",
     "output_type": "stream",
     "text": [
      "Research the __repr__ method. How does it differ from __str__? When is it used? \n",
      "\n",
      "The repr() built-in is used to obtain the parsable string representation of an object. If an object is parsable, that means that Python should be able to recreate the object from the representation when repr is used in conjunction with functions like eval(). To define the behavior of repr(), you can use the __repr__() special method. In cases where the __str__() method is not defined, Python uses the __repr__() method to print the object, as well as to represent the object when str() is called on it.\n",
      "\n",
      "\n",
      "Implementation: \n",
      "\n",
      "The person is named Princess Genevieve Sagrado and her age is 20\n",
      "Person(name = Princess Genevieve Sagrado, age = 20)\n"
     ]
    }
   ],
   "source": [
    "print(\"Research the __repr__ method. How does it differ from __str__? When is it used? \\n\")\n",
    "print(\"The repr() built-in is used to obtain the parsable string representation of an object. If an object is parsable, that means that Python should be able to recreate the object from the representation when repr is used in conjunction with functions like eval(). To define the behavior of repr(), you can use the __repr__() special method. In cases where the __str__() method is not defined, Python uses the __repr__() method to print the object, as well as to represent the object when str() is called on it.\\n\\n\")\n",
    "\n",
    "print(\"Implementation: \\n\")\n",
    "\n",
    "class Person:\n",
    "\n",
    "    def __init__(self, person_name, person_age):\n",
    "        self.name = person_name\n",
    "        self.age = person_age\n",
    "\n",
    "    def __str__(self):\n",
    "        return f'The person is named {self.name} and her age is {self.age}'\n",
    "\n",
    "    def __repr__(self):\n",
    "        return f'Person(name = {self.name}, age = {self.age})'\n",
    "\n",
    "\n",
    "p = Person('Princess Genevieve Sagrado', 20)\n",
    "\n",
    "print(p.__str__())\n",
    "print(p.__repr__())\n",
    "\n"
   ]
  },
  {
   "cell_type": "code",
   "execution_count": null,
   "id": "16509ec6",
   "metadata": {},
   "outputs": [],
   "source": []
  }
 ],
 "metadata": {
  "kernelspec": {
   "display_name": "Python 3",
   "language": "python",
   "name": "python3"
  },
  "language_info": {
   "codemirror_mode": {
    "name": "ipython",
    "version": 3
   },
   "file_extension": ".py",
   "mimetype": "text/x-python",
   "name": "python",
   "nbconvert_exporter": "python",
   "pygments_lexer": "ipython3",
   "version": "3.9.4"
  }
 },
 "nbformat": 4,
 "nbformat_minor": 5
}
