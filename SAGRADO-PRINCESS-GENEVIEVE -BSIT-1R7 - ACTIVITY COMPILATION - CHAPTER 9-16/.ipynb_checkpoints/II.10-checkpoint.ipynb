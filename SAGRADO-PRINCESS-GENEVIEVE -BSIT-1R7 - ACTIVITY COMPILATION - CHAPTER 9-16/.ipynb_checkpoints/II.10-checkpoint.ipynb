{
 "cells": [
  {
   "cell_type": "code",
   "execution_count": 1,
   "id": "044ec714",
   "metadata": {},
   "outputs": [
    {
     "name": "stdout",
     "output_type": "stream",
     "text": [
      "Binary Search only applicable to sorted arrays whereas Sequential Search works on all arrays, the order of elements doesn’t matter.\n",
      "\n",
      "\n",
      "\n",
      "Binary Search\n",
      "\n",
      "Binary search : As its name suggests, at each stage you can divide data into two (bi) parts. Here you don’t have to traverse through whole data. Binary Search cannot be applied to Linked List(Because Linked List does not allow Random Access, we cannot access the middle element directly). Sequential Search can be applied to Linked List.\n",
      "\n",
      "False\n",
      "True\n",
      "\n",
      "\n",
      "Sequencial Search\n",
      "\n",
      "Sequential search : As its name suggests, you go through whole data sequentially until you find the match. Sequential Search is straight forward. We are basically visiting all the elements and checking if the given value is present in the array or not.\n",
      "\n",
      "False\n",
      "False\n"
     ]
    }
   ],
   "source": [
    "print(\"Binary Search only applicable to sorted arrays whereas Sequential Search works on all arrays, the order of elements doesn’t matter.\\n\\n\\n\")\n",
    "\n",
    "def binarySearch(alist, item):\n",
    "   if len(alist) == 0:\n",
    "      return False\n",
    "   else:\n",
    "      midpoint = len(alist)//2\n",
    "   if alist[midpoint]==item:\n",
    "      return True\n",
    "   else:\n",
    "      if item<alist[midpoint]:\n",
    "         return binarySearch(alist[:midpoint],item)\n",
    "      else:\n",
    "         return binarySearch(alist[midpoint+1:],item)\n",
    "\t\n",
    "testlist = [0, 1, 2, 8, 13, 17, 19, 32, 42]\n",
    "print(\"Binary Search\\n\")\n",
    "print(\"Binary search : As its name suggests, at each stage you can divide data into two (bi) parts. Here you don’t have to traverse through whole data. Binary Search cannot be applied to Linked List(Because Linked List does not allow Random Access, we cannot access the middle element directly). Sequential Search can be applied to Linked List.\\n\")\n",
    "print(binarySearch(testlist, 3))\n",
    "print(binarySearch(testlist, 13))\n",
    "\n",
    "def sequentialSearch(alist, item):\n",
    "   pos = 0\n",
    "   found = False\n",
    "   while pos < len(alist) and not found:\n",
    "      if alist[pos] == item:\n",
    "         found = True\n",
    "      else:\n",
    "         pos = pos+1\n",
    "         return found\n",
    "\n",
    "testlist = [1, 2, 32, 8, 17, 19, 42, 13, 0]\n",
    "print(\"\\n\\nSequencial Search\\n\")\n",
    "print(\"Sequential search : As its name suggests, you go through whole data sequentially until you find the match. Sequential Search is straight forward. We are basically visiting all the elements and checking if the given value is present in the array or not.\\n\")\n",
    "print(sequentialSearch(testlist, 3))\n",
    "print(sequentialSearch(testlist, 13))\n",
    "\n"
   ]
  },
  {
   "cell_type": "code",
   "execution_count": null,
   "id": "0e4afc87",
   "metadata": {},
   "outputs": [],
   "source": []
  }
 ],
 "metadata": {
  "kernelspec": {
   "display_name": "Python 3",
   "language": "python",
   "name": "python3"
  },
  "language_info": {
   "codemirror_mode": {
    "name": "ipython",
    "version": 3
   },
   "file_extension": ".py",
   "mimetype": "text/x-python",
   "name": "python",
   "nbconvert_exporter": "python",
   "pygments_lexer": "ipython3",
   "version": "3.9.4"
  }
 },
 "nbformat": 4,
 "nbformat_minor": 5
}
