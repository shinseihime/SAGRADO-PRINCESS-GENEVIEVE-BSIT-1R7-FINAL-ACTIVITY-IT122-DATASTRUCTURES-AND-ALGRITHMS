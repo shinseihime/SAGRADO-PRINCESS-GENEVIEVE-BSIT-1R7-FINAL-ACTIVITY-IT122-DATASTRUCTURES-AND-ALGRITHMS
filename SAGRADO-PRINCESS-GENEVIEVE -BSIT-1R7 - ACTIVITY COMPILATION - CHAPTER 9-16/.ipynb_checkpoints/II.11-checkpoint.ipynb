{
 "cells": [
  {
   "cell_type": "code",
   "execution_count": 1,
   "id": "ecc0b524",
   "metadata": {},
   "outputs": [
    {
     "name": "stdout",
     "output_type": "stream",
     "text": [
      "33\n"
     ]
    }
   ],
   "source": [
    "\n",
    "val = [3, 4, 8, 8, 10]\n",
    "wt = [2, 3, 4, 5, 9]\n",
    "W = 50\n",
    "n = len(val)\n",
    "\n",
    "t = [[-1 for i in range(W + 1)] for j in range(n + 1)]\n",
    "\n",
    "\n",
    "def knapsack(wt, val, W, n):\n",
    "\n",
    "\tif n == 0 or W == 0:\n",
    "\t\treturn 0\n",
    "\tif t[n][W] != -1:\n",
    "\t\treturn t[n][W]\n",
    "\n",
    "\tif wt[n-1] <= W:\n",
    "\t\tt[n][W] = max(\n",
    "\t\t\tval[n-1] + knapsack(\n",
    "\t\t\t\twt, val, W-wt[n-1], n-1),\n",
    "\t\t\tknapsack(wt, val, W, n-1))\n",
    "\t\treturn t[n][W]\n",
    "\telif wt[n-1] > W:\n",
    "\t\tt[n][W] = knapsack(wt, val, W, n-1)\n",
    "\t\treturn t[n][W]\n",
    "\n",
    "\n",
    "print(knapsack(wt, val, W, n))\n"
   ]
  },
  {
   "cell_type": "code",
   "execution_count": null,
   "id": "6d5169b0",
   "metadata": {},
   "outputs": [],
   "source": []
  }
 ],
 "metadata": {
  "kernelspec": {
   "display_name": "Python 3",
   "language": "python",
   "name": "python3"
  },
  "language_info": {
   "codemirror_mode": {
    "name": "ipython",
    "version": 3
   },
   "file_extension": ".py",
   "mimetype": "text/x-python",
   "name": "python",
   "nbconvert_exporter": "python",
   "pygments_lexer": "ipython3",
   "version": "3.9.4"
  }
 },
 "nbformat": 4,
 "nbformat_minor": 5
}
