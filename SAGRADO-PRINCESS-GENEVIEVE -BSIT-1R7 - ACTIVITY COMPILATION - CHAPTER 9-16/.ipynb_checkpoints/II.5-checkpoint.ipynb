{
 "cells": [
  {
   "cell_type": "code",
   "execution_count": 1,
   "id": "7506b687",
   "metadata": {},
   "outputs": [
    {
     "name": "stdout",
     "output_type": "stream",
     "text": [
      "11 of Hearts\n"
     ]
    }
   ],
   "source": [
    "import random\n",
    "class Card:\n",
    "   def __init__(self, suit, value):\n",
    "      self.suit = suit\n",
    "      self.value = value\n",
    "\n",
    "   def show(self):\n",
    "      print(\"{} of {}\".format(self.value, self.suit))\n",
    "\n",
    "class Deck:\n",
    "   def __init__(self):\n",
    "      self.cards = []\n",
    "      self.build()\n",
    "\n",
    "   def build(self):\n",
    "      for s in [\"Spades\", \"Clubs\", \"Diamonds\", \"Hearts\"]:\n",
    "         for v in range(1, 14):\n",
    "            self.cards.append(Card(s, v))\n",
    "\n",
    "   def show(self):\n",
    "      for c in self.cards:\n",
    "         c.show()\n",
    "\n",
    "   def shuffle(self):\n",
    "      for i in range(len(self.cards) - 1, 0, -1):\n",
    "         r = random.randint(0, i)\n",
    "         self.cards[i], self.cards[r] = self.cards[r], self.cards[i]\n",
    "\n",
    "   def drawCard(self):\n",
    "      return self.cards.pop()\n",
    "\n",
    "   def draw(self, deck):\n",
    "      self.hand.append(deck.drawCard())\n",
    "      return self\n",
    "\n",
    "\n",
    "deck = Deck()\n",
    "deck.shuffle()\n",
    "\n",
    "card = deck.drawCard()\n",
    "card.show()\n"
   ]
  },
  {
   "cell_type": "code",
   "execution_count": null,
   "id": "9245a331",
   "metadata": {},
   "outputs": [],
   "source": []
  }
 ],
 "metadata": {
  "kernelspec": {
   "display_name": "Python 3",
   "language": "python",
   "name": "python3"
  },
  "language_info": {
   "codemirror_mode": {
    "name": "ipython",
    "version": 3
   },
   "file_extension": ".py",
   "mimetype": "text/x-python",
   "name": "python",
   "nbconvert_exporter": "python",
   "pygments_lexer": "ipython3",
   "version": "3.9.4"
  }
 },
 "nbformat": 4,
 "nbformat_minor": 5
}
